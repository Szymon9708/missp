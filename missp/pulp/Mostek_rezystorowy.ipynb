{
  "nbformat": 4,
  "nbformat_minor": 0,
  "metadata": {
    "colab": {
      "name": "Mostek_rezystorowy.ipynb",
      "provenance": [],
      "collapsed_sections": []
    },
    "kernelspec": {
      "name": "python3",
      "display_name": "Python 3"
    }
  },
  "cells": [
    {
      "cell_type": "markdown",
      "metadata": {
        "id": "YicUP7SW4_fh"
      },
      "source": [
        "#Szymon Odważny\n",
        "## Nr albumu: 208949"
      ]
    },
    {
      "cell_type": "code",
      "metadata": {
        "id": "XKCDnRkS43Nx"
      },
      "source": [
        "!pip install pulp\n",
        "\n",
        "!sudo apt-get install coinor-cbc glpk-utils coinor-clp"
      ],
      "execution_count": null,
      "outputs": []
    },
    {
      "cell_type": "markdown",
      "metadata": {
        "id": "WB6JBcTZ4_vo"
      },
      "source": [
        ">**Minimalizacja mocy rozproszonej w dwójniku rezystorowym. Zmiennymi decyzyjnymi są wartości prądów. Głównym równaniem jest suma mocy na poszczególnych rezystorach. Moc jest to iloczyn In i Un na odbiorniku.**\r\n",
        "\r\n",
        "\r\n",
        "\r\n",
        "  n| 1 | 2  | 3  | 4  | 5 \r\n",
        "---|---|--- |--- |--- |---\r\n",
        "Un [V] | 6 | 10 |  4 | 7  | 3 \r\n",
        "In [mA]| 4 | 2 | 2 | 2 | 4 \r\n",
        "delta(I) [mA] | 1 | 1 | 1 |1 | 1 \r\n",
        "\r\n",
        ">**Ograniczenia:**\r\n",
        "- prądowe prawo Kirchhoffa\r\n",
        "\r\n",
        ">**Program oblicza całkowitą moc rozproszenia i prądy dające najlepsze rozwiązanie problemu, a także wartości rezystancji na podstawie prawa Ohma.**\r\n",
        "\r\n"
      ]
    },
    {
      "cell_type": "code",
      "metadata": {
        "colab": {
          "base_uri": "https://localhost:8080/"
        },
        "id": "3NKslU6p_6jF",
        "outputId": "c0f6c88f-771b-48ea-ad4b-90deef3cddf7"
      },
      "source": [
        "import numpy as np\n",
        "from pulp import *\n",
        "\n",
        "# Nazwa i rodzaj problemu\n",
        "prob = LpProblem(\"Minimalna moc rozproszenia na rezystorach\",LpMinimize)\n",
        "# 5 zmiennych prądowych z limitami\n",
        "i1=LpVariable(\"i1\", 0.003, 0.005, LpContinuous)\n",
        "i2=LpVariable(\"i2\", 0.001, 0.003, LpContinuous)\n",
        "i3=LpVariable(\"i3\", 0.001, 0.003, LpContinuous)\n",
        "i4=LpVariable(\"i4\", 0.001, 0.003, LpContinuous)\n",
        "i5=LpVariable(\"i5\", 0.003, 0.005, LpContinuous)\n",
        " \n",
        "# Stałe napięć\n",
        "U = (6.0, 10.0, 4.0, 7.0, 3.0)\n",
        "# Funkcja całkowitej mocy w obwodzie\n",
        "prob += U[0]*i1 + U[1]*i2 + U[2]*i3 + U[3]*i4 + U[4]*i5, \"Całkowita moc\"\n",
        "# Ograniczenia wynikające z prawa Kirchhoffa\n",
        "prob += i1-i3 == i4, \"ki1\" \n",
        "prob += i2+i3 == i5, \"ki2\"\n",
        "\n",
        "prob.writeLP(\"mostekrezystorowy.lp\")\n",
        "# Rozwiązanie problemu\n",
        "prob.solve()\n",
        "print(\"Stan:\", LpStatus[prob.status])\n",
        "for v in prob.variables():\n",
        "    print(v.name, \"=\", v.varValue)\n",
        "# Suma strat mocy\n",
        "print(\"straty:\", value(prob.objective), \"W\\n\")  \n",
        "# Rezystancja rezystorów wynikających z prawa Ohma\n",
        "for v, k in zip(U, prob.variables()):\n",
        "  print(\"r\",U.index(v)+1,\"=\",(v/k.varValue),\"Ohm\")"
      ],
      "execution_count": null,
      "outputs": [
        {
          "output_type": "stream",
          "text": [
            "Stan: Optimal\n",
            "i1 = 0.003\n",
            "i2 = 0.001\n",
            "i3 = 0.002\n",
            "i4 = 0.001\n",
            "i5 = 0.003\n",
            "straty: 0.052000000000000005 W\n",
            "\n",
            "r 1 = 2000.0 Ohm\n",
            "r 2 = 10000.0 Ohm\n",
            "r 3 = 2000.0 Ohm\n",
            "r 4 = 7000.0 Ohm\n",
            "r 5 = 1000.0 Ohm\n"
          ],
          "name": "stdout"
        },
        {
          "output_type": "stream",
          "text": [
            "/usr/local/lib/python3.6/dist-packages/pulp/pulp.py:1199: UserWarning: Spaces are not permitted in the name. Converted to '_'\n",
            "  warnings.warn(\"Spaces are not permitted in the name. Converted to '_'\")\n"
          ],
          "name": "stderr"
        }
      ]
    }
  ]
}