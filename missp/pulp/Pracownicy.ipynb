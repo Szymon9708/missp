{
  "nbformat": 4,
  "nbformat_minor": 0,
  "metadata": {
    "colab": {
      "name": "Pracownicy.ipynb",
      "provenance": [],
      "collapsed_sections": []
    },
    "kernelspec": {
      "name": "python3",
      "display_name": "Python 3"
    }
  },
  "cells": [
    {
      "cell_type": "markdown",
      "metadata": {
        "id": "44QEoewg6Ica"
      },
      "source": [
        "#Szymon Odważny\n",
        "## Nr albumu: 208949\n"
      ]
    },
    {
      "cell_type": "code",
      "metadata": {
        "id": "dFBrDWBp6H1A"
      },
      "source": [
        "!pip install pulp\n",
        "\n",
        "!sudo apt-get install coinor-cbc glpk-utils coinor-clp"
      ],
      "execution_count": null,
      "outputs": []
    },
    {
      "cell_type": "markdown",
      "metadata": {
        "id": "N870ByZC6IuI"
      },
      "source": [
        "> **Realizacja planu pracy i minimalizacja kosztów w sklepie dla sześciu pracowników. \r\n",
        "Zmiennymi decyzyjnymi (o wartościach 0 lub 1) jest obecność pracowników każdego dnia tygodnia.** \r\n",
        "\r\n",
        ">**Ograniczenia dla pracownika:**\r\n",
        "- może pracować wyłącznie w zadeklarowanych dniach,\r\n",
        "- może pracować wyłącznie 3 dni w tygodniu,\r\n",
        "- ilość pracowników danego dnia (PON 2, WT 1, ŚR 1, CZW 1, PT 3).\r\n",
        "\r\n",
        "Dostępność pracownika i dzienne wynagrodzenie|PON|WT|ŚR|CZW|PT\r\n",
        "---|---|---|---|---|---\r\n",
        "Ania - 100 pln|+|-|+|-|+|\r\n",
        "Stefan - 50 pln|-|+|+|-|-|\r\n",
        "Hektor - 60 pln|+|-|-|+|-|\r\n",
        "Olaf - 40 pln|-|+|+|+|-|\r\n",
        "Lidia - 110 pln|+|-|-|-|-|\r\n",
        "Piotr - 70 pln|+|-|-|-|-|\r\n",
        "\r\n",
        "> Program oblicza łączny koszt zatrudnienia pracowników, a także obecność każdego pracownika każdego dnia. \r\n",
        "\r\n",
        "**\"1\" - pracuje,  \r\n",
        "\"0\" - nie pracje.**\r\n"
      ]
    },
    {
      "cell_type": "code",
      "metadata": {
        "id": "0W3ejJ8i6I9I",
        "colab": {
          "base_uri": "https://localhost:8080/"
        },
        "outputId": "c38fb308-5416-4388-be37-5fe0f8b00892"
      },
      "source": [
        "# Biblioteka\n",
        "from pulp import *\n",
        "\n",
        "# Nazwa i rodzaj problemu\n",
        "prob =LpProblem(\"optymalizacja\",LpMinimize)\n",
        "\n",
        "# Zmienne boolowskie dla każdego pracownika dla pięciu dni.\n",
        "PonA =LpVariable(\"Ania_dzien_poniedzialek\",0,1,LpInteger)\n",
        "WtA =LpVariable(\"Ania_dzien_wtorek\",0,1,LpInteger)\n",
        "SrA =LpVariable(\"Ania_dzien_sroda\",0,1,LpInteger)\n",
        "CzwA =LpVariable(\"Ania_dzien_czwartek\",0,1,LpInteger)\n",
        "PtA =LpVariable(\"Ania_dzien_piatek\",0,1,LpInteger)\n",
        "PonS =LpVariable(\"Stefan_dzien_poniedzialek\",0,1,LpInteger)\n",
        "WtS =LpVariable(\"Stefan_dzien_wtorek\",0,1,LpInteger)\n",
        "SrS =LpVariable(\"Stefan_dzien_sroda\",0,1,LpInteger)\n",
        "CzwS =LpVariable(\"Stefan_dzien_czwartek\",0,1,LpInteger)\n",
        "PtS =LpVariable(\"Stefan_dzien_piatek\",0,1,LpInteger)\n",
        "PonH =LpVariable(\"Hektor_dzien_poniedzialek\",0,1,LpInteger)\n",
        "WtH =LpVariable(\"Hektor_dzien_wtorek\",0,1,LpInteger)\n",
        "SrH =LpVariable(\"Hektor_dzien_sroda\",0,1,LpInteger)\n",
        "CzwH =LpVariable(\"Hektor_dzien_czwartek\",0,1,LpInteger)\n",
        "PtH =LpVariable(\"Hektor_dzien_piatek\",0,1,LpInteger)\n",
        "PonO =LpVariable(\"Olaf_dzien_poniedzialek\",0,1,LpInteger)\n",
        "WtO =LpVariable(\"Olaf_dzien_wtorek\",0,1,LpInteger)\n",
        "SrO =LpVariable(\"Olaf_dzien_sroda\",0,1,LpInteger)\n",
        "CzwO =LpVariable(\"Olaf_dzien_czwartek\",0,1,LpInteger)\n",
        "PtO =LpVariable(\"Olaf_dzien_piatek\",0,1,LpInteger)\n",
        "PonL =LpVariable(\"Lidia_dzien_poniedzialek\",0,1,LpInteger)\n",
        "WtL =LpVariable(\"Lidia_dzien_wtorek\",0,1,LpInteger)\n",
        "SrL =LpVariable(\"Lidia_dzien_sroda\",0,1,LpInteger)\n",
        "CzwL =LpVariable(\"Lidia_dzien_czwartek\",0,1,LpInteger)\n",
        "PtL =LpVariable(\"Lidia_dzien_piatek\",0,1,LpInteger)\n",
        "PonP =LpVariable(\"Piotr_dzien_poniedzialek\",0,1,LpInteger)\n",
        "WtP =LpVariable(\"Piotr_dzien_wtorek\",0,1,LpInteger)\n",
        "SrP =LpVariable(\"Piotr_dzien_sroda\",0,1,LpInteger)\n",
        "CzwP =LpVariable(\"Piotr_dzien_czwartek\",0,1,LpInteger)\n",
        "PtP =LpVariable(\"Piotr_dzien_piatek\",0,1,LpInteger)\n",
        "\n",
        "# Stałe z dziennym oczekiwaniem wynagrodzenia każdego pracownika\n",
        "koszt_A=100\n",
        "koszt_S=50\n",
        "koszt_H=60\n",
        "koszt_O=40\n",
        "koszt_L=110\n",
        "koszt_P=70\n",
        "\n",
        "# Suma wynagrodzenia każdego pracownika\n",
        "prob +=(PonA+WtA+SrA+CzwA+PtA)*koszt_A+(PonS+WtS+SrS+CzwS+PtS)*koszt_S+(PonH+WtH+SrH+CzwH+PtH)*koszt_H+(PonO+WtO+SrO+CzwO+PtO)*koszt_O+(PonL+WtL+SrL+CzwL+PtL)*koszt_L+(PonP+WtP+SrP+CzwP+PtP)*koszt_P, \"koszty_minimalnie\"\n",
        "\n",
        "# Żaden z pracowników nie może pracować dłużej niż 3 dni\n",
        "prob +=PonA+WtA+SrA+CzwA+PtA<=3, \"1\" \n",
        "prob +=PonS+WtS+SrS+CzwS+PtS<=3, \"2\" \n",
        "prob +=PonH+WtH+SrH+CzwH+PtH<=3, \"3\" \n",
        "prob +=PonO+WtO+SrO+CzwO+PtO<=3, \"4\"\n",
        "prob +=PonL+WtL+SrL+CzwL+PtL<=3, \"5\"\n",
        "prob +=PonP+WtP+SrP+CzwP+PtP<=3, \"6\"\n",
        "\n",
        "# Kiedy pracownik nie pracuje\n",
        "prob +=WtS+SrS+CzwS+PtS==0 , \"7\"\n",
        "prob +=CzwH+PtH==0, \"8\"\n",
        "prob +=PonL+WtL+SrL==0, \"9\"\n",
        "prob +=CzwP+PtP==0, \"10\"\n",
        "\n",
        "# Wymagana liczba pracowników w sklepie każdego dnia\n",
        "prob +=PonA+PonS+PonH+PonO+PonL+PonP==2, \"Poniedzialek\"\n",
        "prob +=WtA+WtS+WtH+WtO+WtL+WtP==1, \"Wtorek\"\n",
        "prob +=SrA+SrS+SrH+SrO+SrL+SrP==1, \"Sroda\"\n",
        "prob +=CzwA+CzwS+CzwH+CzwO+CzwL+CzwP==1, \"Czwartek\"\n",
        "prob +=PtA+PtS+PtH+PtO+PtL+PtP==3, \"Piatek\"\n",
        "\n",
        "prob.writeLP(\"tydzien.lp\")\n",
        "\n",
        "# Rozwiązanie problemu\n",
        "prob.solve()\n",
        "print(\"Stan:\", LpStatus[prob.status])\n",
        "\n",
        "print(\"Koszt calkowity:\", value(prob.objective),\"PLN\\n\") \n",
        "\n",
        "# Obecność pracownika w sklepie\n",
        "for v in prob.variables():\n",
        "    print(v.name, \"=\", v.varValue)"
      ],
      "execution_count": null,
      "outputs": [
        {
          "output_type": "stream",
          "text": [
            "Stan: Optimal\n",
            "Koszt calkowity: 500.0 PLN\n",
            "\n",
            "Ania_dzien_czwartek = 0.0\n",
            "Ania_dzien_piatek = 1.0\n",
            "Ania_dzien_poniedzialek = 0.0\n",
            "Ania_dzien_sroda = 0.0\n",
            "Ania_dzien_wtorek = 0.0\n",
            "Hektor_dzien_czwartek = 0.0\n",
            "Hektor_dzien_piatek = 0.0\n",
            "Hektor_dzien_poniedzialek = 1.0\n",
            "Hektor_dzien_sroda = 1.0\n",
            "Hektor_dzien_wtorek = 0.0\n",
            "Lidia_dzien_czwartek = 0.0\n",
            "Lidia_dzien_piatek = 1.0\n",
            "Lidia_dzien_poniedzialek = 0.0\n",
            "Lidia_dzien_sroda = 0.0\n",
            "Lidia_dzien_wtorek = 0.0\n",
            "Olaf_dzien_czwartek = 1.0\n",
            "Olaf_dzien_piatek = 1.0\n",
            "Olaf_dzien_poniedzialek = 0.0\n",
            "Olaf_dzien_sroda = 0.0\n",
            "Olaf_dzien_wtorek = 1.0\n",
            "Piotr_dzien_czwartek = 0.0\n",
            "Piotr_dzien_piatek = 0.0\n",
            "Piotr_dzien_poniedzialek = 0.0\n",
            "Piotr_dzien_sroda = 0.0\n",
            "Piotr_dzien_wtorek = 0.0\n",
            "Stefan_dzien_czwartek = 0.0\n",
            "Stefan_dzien_piatek = 0.0\n",
            "Stefan_dzien_poniedzialek = 1.0\n",
            "Stefan_dzien_sroda = 0.0\n",
            "Stefan_dzien_wtorek = 0.0\n"
          ],
          "name": "stdout"
        }
      ]
    }
  ]
}